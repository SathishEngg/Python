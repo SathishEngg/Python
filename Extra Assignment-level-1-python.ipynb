{
 "cells": [
  {
   "cell_type": "code",
   "execution_count": 3,
   "id": "5b0c46ba",
   "metadata": {},
   "outputs": [],
   "source": [
    "#print Statement"
   ]
  },
  {
   "cell_type": "code",
   "execution_count": 4,
   "id": "866eacc3",
   "metadata": {},
   "outputs": [
    {
     "name": "stdout",
     "output_type": "stream",
     "text": [
      "HOPE AI\n"
     ]
    }
   ],
   "source": [
    "print(\"HOPE AI\")"
   ]
  },
  {
   "cell_type": "code",
   "execution_count": null,
   "id": "a945d589",
   "metadata": {},
   "outputs": [],
   "source": [
    "# Buy input"
   ]
  },
  {
   "cell_type": "code",
   "execution_count": 3,
   "id": "74593aa1",
   "metadata": {},
   "outputs": [
    {
     "name": "stdout",
     "output_type": "stream",
     "text": [
      "Enter your institute name?: HOPE AI\n"
     ]
    }
   ],
   "source": [
    "Name= input(\"Enter your institute name?: \")"
   ]
  },
  {
   "cell_type": "code",
   "execution_count": 20,
   "id": "0f0afb71",
   "metadata": {},
   "outputs": [],
   "source": [
    "#Buy inputs"
   ]
  },
  {
   "cell_type": "code",
   "execution_count": 2,
   "id": "0ec45235",
   "metadata": {},
   "outputs": [
    {
     "name": "stdout",
     "output_type": "stream",
     "text": [
      "Enter your name: Raj\n",
      "Enter your age: 15\n",
      "Enter your school name: Guru school\n",
      "Enter your degree: B.E CSE\n"
     ]
    }
   ],
   "source": [
    "Name= input(\"Enter your name: \")\n",
    "Age= int(input(\"Enter your age: \"))\n",
    "School= input(\"Enter your school name: \")\n",
    "Degree= input(\"Enter your degree: \")"
   ]
  },
  {
   "cell_type": "code",
   "execution_count": 24,
   "id": "c3119cfb",
   "metadata": {},
   "outputs": [],
   "source": [
    "#Addition"
   ]
  },
  {
   "cell_type": "code",
   "execution_count": 37,
   "id": "abdda44d",
   "metadata": {},
   "outputs": [
    {
     "name": "stdout",
     "output_type": "stream",
     "text": [
      "a= 43\n",
      "b= 34\n",
      "add = 77\n"
     ]
    }
   ],
   "source": [
    "num1=43\n",
    "print(\"a=\",num1)\n",
    "num2=34\n",
    "print(\"b=\",num2)\n",
    "print(\"add =\",num1+num2)"
   ]
  },
  {
   "cell_type": "code",
   "execution_count": 26,
   "id": "b2daf14f",
   "metadata": {},
   "outputs": [],
   "source": [
    "#Subtraction"
   ]
  },
  {
   "cell_type": "code",
   "execution_count": 38,
   "id": "eccd4a6e",
   "metadata": {},
   "outputs": [
    {
     "name": "stdout",
     "output_type": "stream",
     "text": [
      "a= 43\n",
      "b= 34\n",
      "Sub = 9\n"
     ]
    }
   ],
   "source": [
    "num1=43\n",
    "print(\"a=\",num1)\n",
    "num2=34\n",
    "print(\"b=\",num2)\n",
    "print(\"Sub =\",num1-num2)"
   ]
  },
  {
   "cell_type": "code",
   "execution_count": 29,
   "id": "d8c97546",
   "metadata": {},
   "outputs": [],
   "source": [
    "#Multiplication"
   ]
  },
  {
   "cell_type": "code",
   "execution_count": 39,
   "id": "c7af7e00",
   "metadata": {},
   "outputs": [
    {
     "name": "stdout",
     "output_type": "stream",
     "text": [
      "a= 63\n",
      "b= 97\n",
      "Mul = 6111\n"
     ]
    }
   ],
   "source": [
    "num1=63\n",
    "print(\"a=\",num1)\n",
    "num2=97\n",
    "print(\"b=\",num2)\n",
    "print(\"Mul =\",num1*num2)"
   ]
  },
  {
   "cell_type": "code",
   "execution_count": 31,
   "id": "5289a9cb",
   "metadata": {},
   "outputs": [],
   "source": [
    "#Division"
   ]
  },
  {
   "cell_type": "code",
   "execution_count": 40,
   "id": "3a95e153",
   "metadata": {},
   "outputs": [
    {
     "name": "stdout",
     "output_type": "stream",
     "text": [
      "a= 76\n",
      "b= 31\n",
      "Float Div = 2.4516129032258065\n"
     ]
    }
   ],
   "source": [
    "num1=76\n",
    "print(\"a=\",num1)\n",
    "num2=31\n",
    "print(\"b=\",num2)\n",
    "print(\"Float Div =\",num1/num2)"
   ]
  },
  {
   "cell_type": "code",
   "execution_count": 35,
   "id": "2b3799c0",
   "metadata": {},
   "outputs": [],
   "source": [
    "#Floor division"
   ]
  },
  {
   "cell_type": "code",
   "execution_count": 41,
   "id": "c4a4b126",
   "metadata": {},
   "outputs": [
    {
     "name": "stdout",
     "output_type": "stream",
     "text": [
      "a= 76\n",
      "b= 31\n",
      "Floor Div = 2\n"
     ]
    }
   ],
   "source": [
    "num1=76\n",
    "print(\"a=\",num1)\n",
    "num2=31\n",
    "print(\"b=\",num2)\n",
    "print(\"Floor Div =\",num1//num2)"
   ]
  },
  {
   "cell_type": "code",
   "execution_count": 42,
   "id": "212a5a57",
   "metadata": {},
   "outputs": [],
   "source": [
    "#Modulo"
   ]
  },
  {
   "cell_type": "code",
   "execution_count": 43,
   "id": "948c0ef0",
   "metadata": {},
   "outputs": [
    {
     "name": "stdout",
     "output_type": "stream",
     "text": [
      "a= 76\n",
      "b= 31\n",
      "Modulo = 14\n"
     ]
    }
   ],
   "source": [
    "num1=76\n",
    "print(\"a=\",num1)\n",
    "num2=31\n",
    "print(\"b=\",num2)\n",
    "print(\"Modulo =\",num1%num2)"
   ]
  },
  {
   "cell_type": "code",
   "execution_count": 44,
   "id": "5fb05cae",
   "metadata": {},
   "outputs": [],
   "source": [
    "#Power"
   ]
  },
  {
   "cell_type": "code",
   "execution_count": 45,
   "id": "a2de44cc",
   "metadata": {},
   "outputs": [
    {
     "name": "stdout",
     "output_type": "stream",
     "text": [
      "a= 4\n",
      "b= 4\n",
      "Power = 256\n"
     ]
    }
   ],
   "source": [
    "num1=4\n",
    "print(\"a=\",num1)\n",
    "num2=4\n",
    "print(\"b=\",num2)\n",
    "print(\"Power =\",num1**num2)"
   ]
  }
 ],
 "metadata": {
  "kernelspec": {
   "display_name": "Python 3 (ipykernel)",
   "language": "python",
   "name": "python3"
  },
  "language_info": {
   "codemirror_mode": {
    "name": "ipython",
    "version": 3
   },
   "file_extension": ".py",
   "mimetype": "text/x-python",
   "name": "python",
   "nbconvert_exporter": "python",
   "pygments_lexer": "ipython3",
   "version": "3.11.5"
  }
 },
 "nbformat": 4,
 "nbformat_minor": 5
}
