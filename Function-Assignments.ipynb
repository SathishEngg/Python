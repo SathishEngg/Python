{
 "cells": [
  {
   "cell_type": "code",
   "execution_count": null,
   "id": "a45c9a20",
   "metadata": {},
   "outputs": [],
   "source": [
    "# Create function"
   ]
  },
  {
   "cell_type": "code",
   "execution_count": 1,
   "id": "82574862",
   "metadata": {},
   "outputs": [],
   "source": [
    "def Subfields():\n",
    "    print(\"Sub fields in AI are:\")\n",
    "    Lists=[\"Machine Learning\", \"Neural Networks\", \"Vision\", \"Robotics\",\"Speech Processing\", \"Natural Language Processing\"]\n",
    "    for temp in Lists:\n",
    "        print (temp)"
   ]
  },
  {
   "cell_type": "code",
   "execution_count": 2,
   "id": "2233706c",
   "metadata": {},
   "outputs": [
    {
     "name": "stdout",
     "output_type": "stream",
     "text": [
      "Sub fields in AI are:\n",
      "Machine Learning\n",
      "Neural Networks\n",
      "Vision\n",
      "Robotics\n",
      "Speech Processing\n",
      "Natural Language Processing\n"
     ]
    }
   ],
   "source": [
    "Subfields()"
   ]
  },
  {
   "cell_type": "code",
   "execution_count": 138,
   "id": "d5da69c5",
   "metadata": {},
   "outputs": [],
   "source": [
    "# Create function"
   ]
  },
  {
   "cell_type": "code",
   "execution_count": 5,
   "id": "91db0267",
   "metadata": {},
   "outputs": [],
   "source": [
    "def oddeven():\n",
    "        num=int(input(\"Enter a Number: \"))\n",
    "        if((num%2)==1):\n",
    "            print(\"4 is Odd Number\")\n",
    "            answer=\"4 is Odd Number\"\n",
    "        else:\n",
    "            print(\"4 is Even Number\")\n",
    "            answer=\"4 is Even Number\""
   ]
  },
  {
   "cell_type": "code",
   "execution_count": 6,
   "id": "c18354fe",
   "metadata": {},
   "outputs": [
    {
     "name": "stdout",
     "output_type": "stream",
     "text": [
      "Enter a Number: 4\n",
      "4 is Even Number\n"
     ]
    }
   ],
   "source": [
    "oddeven()"
   ]
  },
  {
   "cell_type": "code",
   "execution_count": 5,
   "id": "6be67bc0",
   "metadata": {},
   "outputs": [],
   "source": [
    "# Create function"
   ]
  },
  {
   "cell_type": "code",
   "execution_count": 6,
   "id": "40e7df37",
   "metadata": {},
   "outputs": [],
   "source": [
    "def Elegible():\n",
    "    gender = input(\"Your Gender:\")\n",
    "    age = int(input(\"Your Age:\"))\n",
    "    if (age >= 21):\n",
    "        print(\"ELIGIBLE\")\n",
    "        result=\"ELIGIBLE\"\n",
    "    else:\n",
    "        print(\"NOT ELIGIBLE\")\n",
    "        result=\"NOT ELIGIBLE\""
   ]
  },
  {
   "cell_type": "code",
   "execution_count": 7,
   "id": "d2fe6948",
   "metadata": {},
   "outputs": [
    {
     "name": "stdout",
     "output_type": "stream",
     "text": [
      "Your Gender:Male\n",
      "Your Age:18\n",
      "NOT ELIGIBLE\n"
     ]
    }
   ],
   "source": [
    "Elegible()"
   ]
  },
  {
   "cell_type": "code",
   "execution_count": 8,
   "id": "97b4f61b",
   "metadata": {},
   "outputs": [],
   "source": [
    "# create function"
   ]
  },
  {
   "cell_type": "code",
   "execution_count": 9,
   "id": "4a065989",
   "metadata": {},
   "outputs": [],
   "source": [
    "def Percentage():\n",
    "    sub1=23\n",
    "    print(\"The Subject1=\", sub1)\n",
    "    sub2=45\n",
    "    print(\"The Subject2=\", sub2)\n",
    "    sub3=34\n",
    "    print(\"The Subject3=\", sub3)\n",
    "    sub4=23\n",
    "    print(\"The Subject4=\", sub4)\n",
    "    sub5=23\n",
    "    print(\"The Subject5=\", sub5)\n",
    "    total_marks=sub1+sub2+sub3+sub4+sub5\n",
    "    print(\"Total : \",total_marks) \n",
    "    total_subjects=5\n",
    "    percentage = (total_marks / (100 * total_subjects)) * 100\n",
    "    print(\"Percentage : \", percentage)"
   ]
  },
  {
   "cell_type": "code",
   "execution_count": 10,
   "id": "5199c888",
   "metadata": {},
   "outputs": [
    {
     "name": "stdout",
     "output_type": "stream",
     "text": [
      "The Subject1= 23\n",
      "The Subject2= 45\n",
      "The Subject3= 34\n",
      "The Subject4= 23\n",
      "The Subject5= 23\n",
      "Total :  148\n",
      "Percentage :  29.599999999999998\n"
     ]
    }
   ],
   "source": [
    "Percentage()"
   ]
  },
  {
   "cell_type": "code",
   "execution_count": 11,
   "id": "0326765f",
   "metadata": {},
   "outputs": [],
   "source": [
    "#create function"
   ]
  },
  {
   "cell_type": "code",
   "execution_count": 12,
   "id": "a6fce422",
   "metadata": {},
   "outputs": [],
   "source": [
    "def triangle():\n",
    "    height=3\n",
    "    print(\"Height:\",height)\n",
    "    breadth=4\n",
    "    print(\"Breadth:\",breadth)\n",
    "    area=(height*breadth)/2\n",
    "    print(\"Area formula: (Height*Breadth)/2\")\n",
    "    print(\"Area of Triangle:\", area)\n",
    "\n",
    "    height1=3\n",
    "    print(\"Height1:\",height1)\n",
    "    height2=4\n",
    "    print(\"Height2:\",height2)\n",
    "    breadth=45\n",
    "    print(\"Breadth:\",breadth)\n",
    "    perimeter=height1+height2+breadth\n",
    "    print(\"Perimeter formula: Height1+Height2+Breadth\")\n",
    "    print(\"Perimeter of Triangle:\", perimeter)"
   ]
  },
  {
   "cell_type": "code",
   "execution_count": 13,
   "id": "a2ba3dd4",
   "metadata": {},
   "outputs": [
    {
     "name": "stdout",
     "output_type": "stream",
     "text": [
      "Height: 3\n",
      "Breadth: 4\n",
      "Area formula: (Height*Breadth)/2\n",
      "Area of Triangle: 6.0\n",
      "Height1: 3\n",
      "Height2: 4\n",
      "Breadth: 45\n",
      "Perimeter formula: Height1+Height2+Breadth\n",
      "Perimeter of Triangle: 52\n"
     ]
    }
   ],
   "source": [
    "triangle()"
   ]
  }
 ],
 "metadata": {
  "kernelspec": {
   "display_name": "Python 3 (ipykernel)",
   "language": "python",
   "name": "python3"
  },
  "language_info": {
   "codemirror_mode": {
    "name": "ipython",
    "version": 3
   },
   "file_extension": ".py",
   "mimetype": "text/x-python",
   "name": "python",
   "nbconvert_exporter": "python",
   "pygments_lexer": "ipython3",
   "version": "3.11.5"
  }
 },
 "nbformat": 4,
 "nbformat_minor": 5
}
